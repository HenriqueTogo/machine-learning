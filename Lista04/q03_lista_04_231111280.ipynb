{
 "cells": [
  {
   "attachments": {},
   "cell_type": "markdown",
   "metadata": {},
   "source": [
    "# Nome: Henrique Augusto Gomes Togo\n",
    "# Matrícula: 231111280\n",
    "\n",
    "## Questão 3"
   ]
  },
  {
   "cell_type": "markdown",
   "metadata": {},
   "source": [
    "## Parte I"
   ]
  },
  {
   "cell_type": "code",
   "execution_count": 1,
   "metadata": {},
   "outputs": [],
   "source": [
    "import numpy as np\n",
    "import matplotlib.pyplot as plt\n",
    "from sklearn.svm import SVC"
   ]
  },
  {
   "attachments": {},
   "cell_type": "markdown",
   "metadata": {},
   "source": [
    "Acima são importadas algumas bilbiotecas para auxiliarem na resolução do problema. "
   ]
  },
  {
   "cell_type": "markdown",
   "metadata": {},
   "source": [
    "Inicialmente, será treinada uma SVM para classificação sobre um dataset de dados gerados de forma aleatória. O dataset é gerado seguindo uma distribuição normal deslocada. Dessa maneira, é possível \"tornar as features quase linearmente separáveis\".\n",
    "\n",
    "Posteriormente, a SVM será treinada para um dataset que possui features sobre parâmetros da transformada de wavelet com o objetivo de identificar cédulas originais. O dataset pode ser encontrado em [Banknote Authentication](https://archive.ics.uci.edu/dataset/267/banknote+authentication)."
   ]
  },
  {
   "cell_type": "code",
   "execution_count": 25,
   "metadata": {},
   "outputs": [],
   "source": [
    "N = 200\n",
    "X = np.r_[np.random.randn(N, 2) - [1, 1], np.random.randn(N, 2) + [1, 1]]\n",
    "dataset_len = len(X)\n",
    "train_len = round(0.7 * dataset_len)\n",
    "validation_len = round(0.15 * dataset_len)\n",
    "y = [0] * N + [1] * N\n",
    "dataset_raw = np.c_[X, y]\n",
    "dataset_permuted = np.random.permutation(dataset_raw)\n",
    "X = dataset_permuted[:, 0:2].astype('float64')\n",
    "y = dataset_permuted[:,2].astype('int64')"
   ]
  },
  {
   "cell_type": "markdown",
   "metadata": {},
   "source": [
    "Para realizar o treinamento da SVM, o dataset gerado é separado em três, seguindo as respectivas proporções:\n",
    "\n",
    "- Dataset de treinamento (70%);\n",
    "- Dataset de validação (15%);\n",
    "- Dataset de teste (15%).\n",
    "\n",
    "Antes da separação, é realizado um shuffle do dataset original."
   ]
  },
  {
   "cell_type": "code",
   "execution_count": 26,
   "metadata": {},
   "outputs": [],
   "source": [
    "X_train = np.array(X[0 : train_len])\n",
    "y_train = np.array(y[0 : train_len])\n",
    "\n",
    "X_validation = np.array(X[train_len : train_len + validation_len])\n",
    "y_validation = np.array(y[train_len : train_len + validation_len])\n",
    "\n",
    "X_test = np.array(X[train_len + validation_len: dataset_len])\n",
    "y_test = np.array(y[train_len + validation_len: dataset_len])"
   ]
  },
  {
   "cell_type": "markdown",
   "metadata": {},
   "source": [
    "Aqui, será realizado o treinamento da SVM. Serão utilizadas três funções de Kernel distintas, sendo elas:\n",
    "- Linear;\n",
    "- Polinomial;\n",
    "- Round Basis Function (RBF).\n",
    "\n",
    "O objetivo é comparar os resultos de cada uma delas no dataset gerado. Posteriormente, as mesmas funções de Kernel serão testadas, no entanto, será utilizado um dataset com informações sobre [Banknote Authentication](https://archive.ics.uci.edu/dataset/267/banknote+authentication)."
   ]
  },
  {
   "cell_type": "code",
   "execution_count": 29,
   "metadata": {},
   "outputs": [
    {
     "name": "stdout",
     "output_type": "stream",
     "text": [
      "Kernel Linear\n",
      "Acurácia dataset de treinamento 92.5%\n",
      "Acurácia dataset de validação 88.33%\n",
      "Acurácia dataset de teste 96.67%\n",
      "========================================\n",
      "Kernel Polinomial\n",
      "Acurácia dataset de treinamento 92.86%\n",
      "Acurácia dataset de validação 88.33%\n",
      "Acurácia dataset de teste 93.33%\n",
      "========================================\n",
      "Kernel Round Basis Function\n",
      "Acurácia dataset de treinamento 93.21%\n",
      "Acurácia dataset de validação 91.67%\n",
      "Acurácia dataset de teste 96.67%\n",
      "========================================\n"
     ]
    }
   ],
   "source": [
    "c = 1\n",
    "svm_linear = SVC(C=c, kernel='linear')\n",
    "svm_linear.fit(X_train, y_train)\n",
    "\n",
    "svm_poly = SVC(C=c, kernel='poly')\n",
    "svm_poly.fit(X_train, y_train)\n",
    "\n",
    "svm_rbf = SVC(C=c, kernel='rbf')\n",
    "svm_rbf.fit(X_train, y_train)\n",
    "\n",
    "y_pred_validation_linear = svm_linear.predict(X_validation)\n",
    "y_pred_test_linear = svm_linear.predict(X_test)\n",
    "y_pred_train_linear = svm_linear.predict(X_train)\n",
    "\n",
    "y_pred_validation_poly = svm_poly.predict(X_validation)\n",
    "y_pred_test_poly = svm_poly.predict(X_test)\n",
    "y_pred_train_poly = svm_poly.predict(X_train)\n",
    "\n",
    "y_pred_validation_rbf = svm_rbf.predict(X_validation)\n",
    "y_pred_test_rbf = svm_rbf.predict(X_test)\n",
    "y_pred_train_rbf = svm_rbf.predict(X_train)\n",
    "\n",
    "\n",
    "\n",
    "print('Kernel Linear')\n",
    "print(f'Acurácia dataset de treinamento {np.round(np.sum(y_pred_train_linear == y_train) / len(y_train) * 100, 2)}%')\n",
    "print(f'Acurácia dataset de validação {np.round(np.sum(y_pred_validation_linear == y_validation) / len(y_validation) * 100, 2)}%')\n",
    "print(f'Acurácia dataset de teste {np.round(np.sum(y_pred_test_linear == y_test) / len(y_test) * 100, 2)}%')\n",
    "print(40*'=')\n",
    "\n",
    "print('Kernel Polinomial')\n",
    "print(f'Acurácia dataset de treinamento {np.round(np.sum(y_pred_train_poly == y_train) / len(y_train) * 100, 2)}%')\n",
    "print(f'Acurácia dataset de validação {np.round(np.sum(y_pred_validation_poly == y_validation) / len(y_validation) * 100, 2)}%')\n",
    "print(f'Acurácia dataset de teste {np.round(np.sum(y_pred_test_poly == y_test) / len(y_test) * 100, 2)}%')\n",
    "print(40*'=')\n",
    "\n",
    "print('Kernel Round Basis Function')\n",
    "print(f'Acurácia dataset de treinamento {np.round(np.sum(y_pred_train_rbf == y_train) / len(y_train) * 100, 2)}%')\n",
    "print(f'Acurácia dataset de validação {np.round(np.sum(y_pred_validation_rbf == y_validation) / len(y_validation) * 100, 2)}%')\n",
    "print(f'Acurácia dataset de teste {np.round(np.sum(y_pred_test_rbf == y_test) / len(y_test) * 100, 2)}%')\n",
    "print(40*'=')"
   ]
  },
  {
   "cell_type": "markdown",
   "metadata": {},
   "source": [
    "Para esse caso, utilizou-se um valor de C de 1 para obter as acurácias. Como pode ser observado, o kernel linear já consegue classificar muito bem os exemplos que foram apresentados, obtendo uma acurácia de 80% para o dataset de teste. Mas o exemplo apresentado foi apenas uma maneira didática de apresentar os resultados. A seguir, são plotados os pontos do dataset de teste e a fronteira de decisão da SVM com kernel linear."
   ]
  },
  {
   "cell_type": "code",
   "execution_count": 31,
   "metadata": {},
   "outputs": [
    {
     "data": {
      "image/png": "[encoded data removed]",
      "text/plain": [
       "<Figure size 640x480 with 1 Axes>"
      ]
     },
     "metadata": {},
     "output_type": "display_data"
    }
   ],
   "source": [
    "x1 = 0\n",
    "x2 = 1\n",
    "for i in range(len(X_test)):\n",
    "    if y_test[i] == 0:\n",
    "        plt.plot(X_test[i, x1], X_test[i, x2], 'bo', markeredgecolor='k')\n",
    "    else:\n",
    "        plt.plot(X_test[i, x1], X_test[i, x2], 'ro', markeredgecolor='k')\n",
    "plt.xlabel('x1')\n",
    "plt.ylabel('x2')\n",
    "\n",
    "\n",
    "w = svm_linear.coef_[0]           \n",
    "w0 = svm_linear.intercept_[0]      \n",
    "x1_grid = np.linspace(-6, 6)   \n",
    "x2_grid = -(w[x1] / w[x2]) * x1_grid - w0 / w[x2]  \n",
    "\n",
    "plt.plot(x1_grid, x2_grid, '--k')\n",
    "plt.show()"
   ]
  },
  {
   "cell_type": "markdown",
   "metadata": {},
   "source": [
    "Percebe-se que a SVM linear consegue separar bem os dados. Mas deve-se levar em consideração que os dados foram gerados de forma a privilegiar a utilização do kernel linear."
   ]
  },
  {
   "cell_type": "markdown",
   "metadata": {},
   "source": [
    "## Parte II"
   ]
  },
  {
   "attachments": {},
   "cell_type": "markdown",
   "metadata": {},
   "source": [
    "A seguir, é utilizado um dataset com as informações de [Banknote Authentication](https://archive.ics.uci.edu/dataset/267/banknote+authentication). O dataset é composto por 4 features sendo elas:\n",
    "\n",
    "- Variance of Wavelet Trasnformed Image;\n",
    "- Skewness of Wavelet Transformed Image;\n",
    "- Curtosis of Wavelet Trasnformed Image;\n",
    "- Entropy of Image.\n",
    "\n",
    "Além disso o dataset contém as classes de cada um dos exemplos. O dataset foi gerado de imagens de cédulas verdadeiras e cédulas falsas reais."
   ]
  },
  {
   "cell_type": "code",
   "execution_count": null,
   "metadata": {},
   "outputs": [],
   "source": [
    "dataset_raw = np.loadtxt(\"data_banknote_authentication.txt\", delimiter=\",\", dtype=float)\n",
    "dataset_len = len(dataset_raw)\n",
    "\n",
    "train_len = round(0.7 * dataset_len)\n",
    "validation_len = round(0.15 * dataset_len)\n",
    "dataset_permuted = np.random.permutation(dataset_raw)\n",
    "\n",
    "X = dataset_permuted[:, 0:4].astype('float64')\n",
    "y = dataset_permuted[:,4].astype('int64')\n",
    "attributes = {0: 'Variance Wavelet Transform', 1: 'Skewness Wavelet Transform', 2: 'Curtosis Wavelet Transform', 3:'Entropy'}"
   ]
  },
  {
   "attachments": {},
   "cell_type": "markdown",
   "metadata": {},
   "source": [
    "Para realizar o treinamento da SVM, o dataset original é separado em três, seguindo as respectivas proporções:\n",
    "\n",
    "- Dataset de treinamento (70%);\n",
    "- Dataset de validação (15%);\n",
    "- Dataset de teste (15%).\n",
    "\n",
    "Antes da separação, é realizado um shuffle do dataset original."
   ]
  },
  {
   "cell_type": "code",
   "execution_count": null,
   "metadata": {},
   "outputs": [],
   "source": [
    "X_train = np.array(X[0 : train_len])\n",
    "y_train = np.array(y[0 : train_len])\n",
    "\n",
    "X_validation = np.array(X[train_len : train_len + validation_len])\n",
    "y_validation = np.array(y[train_len : train_len + validation_len])\n",
    "\n",
    "X_test = np.array(X[train_len + validation_len: dataset_len])\n",
    "y_test = np.array(y[train_len + validation_len: dataset_len])"
   ]
  },
  {
   "cell_type": "code",
   "execution_count": null,
   "metadata": {},
   "outputs": [],
   "source": [
    "svm = SVC(kernel='linear')\n",
    "svm.fit(X_train, y_train)"
   ]
  },
  {
   "cell_type": "code",
   "execution_count": null,
   "metadata": {},
   "outputs": [],
   "source": [
    "y_pred_validation = svm.predict(X_validation)\n",
    "y_pred_test = svm.predict(X_test)\n",
    "y_pred_train = svm.predict(X_train)"
   ]
  },
  {
   "cell_type": "code",
   "execution_count": null,
   "metadata": {},
   "outputs": [],
   "source": [
    "print(np.round(np.sum(y_pred_train == y_train) / len(y_train) * 100, 2))\n",
    "print(np.round(np.sum(y_pred_validation == y_validation) / len(y_validation) * 100, 2))\n",
    "print(np.round(np.sum(y_pred_test == y_test) / len(y_test) * 100, 2))"
   ]
  },
  {
   "cell_type": "code",
   "execution_count": null,
   "metadata": {},
   "outputs": [],
   "source": [
    "x1 = 0\n",
    "x2 = 1\n",
    "for i in range(len(X)):\n",
    "    if y[i] == 0:\n",
    "        plt.plot(X[i, x1], X[i, x2], 'bo', markeredgecolor='k')\n",
    "    else:\n",
    "        plt.plot(X[i, x1], X[i, x2], 'ro', markeredgecolor='k')\n",
    "plt.xlabel(attributes[x1])\n",
    "plt.ylabel(attributes[x2])\n",
    "plt.show()"
   ]
  }
 ],
 "metadata": {
  "kernelspec": {
   "display_name": "base",
   "language": "python",
   "name": "python3"
  },
  "language_info": {
   "codemirror_mode": {
    "name": "ipython",
    "version": 3
   },
   "file_extension": ".py",
   "mimetype": "text/x-python",
   "name": "python",
   "nbconvert_exporter": "python",
   "pygments_lexer": "ipython3",
   "version": "3.9.13"
  },
  "orig_nbformat": 4
 },
 "nbformat": 4,
 "nbformat_minor": 2
}
